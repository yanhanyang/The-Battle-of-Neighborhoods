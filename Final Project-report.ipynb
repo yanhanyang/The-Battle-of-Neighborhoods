{
    "nbformat_minor": 1, 
    "cells": [
        {
            "source": "# Final project of the Battle of the neighborhoods\n#### Introduction/Business Problem\nIn this final project, we would like to recommend an investor in Toronto who want to invest a lunch bar in local community(the area of North York). The investor should open this lunch bar where it is closest to its customers in order to be easy accessed. which neighborhood (in that borough) would be a better choice for the investor to open the lunch bar in that neighborhood?\n\nOur mission is to find the most suitable neighborhood.", 
            "cell_type": "markdown", 
            "metadata": {}
        }, 
        {
            "source": "#### Data\nThere are three major sources of data that are used in this project.\n\n* Postal-code-level location data: Toronto's data from wekipedia. These dataset provides the information of postal codes, boroughs and neighborhoods of Toronto.\n* Coordinates data from geopy library in Python, which provide the longitude and latitude according to the \u201caddress\u201d(Tonronto)\n* Foursquare API geocode data, which contains most common venues according to the neighborhood.\n\n( A typical request from Foursquare will provide us with the following information:\n[Postal Code] [Neighborhood(s)] [Neighborhood Latitude] [Neighborhood Longitude] [Venue] [Venue Summary] [Venue Category] [Distance (meter)]\n[M1L] [Clairlea, Golden Mile, Oakridge] [43.711112] [-79.284577] [Tim Hortons] [This spot is popular] [Coffee Shop] [592]\u00b6)\n", 
            "cell_type": "markdown", 
            "metadata": {}
        }, 
        {
            "source": "The detail in the process to solve this question is listes below: First, extract geography information of Toronto from weikipedia; Second, convert addresses (postal code and borough) into their equivalent latitude and longitude values; Third, explore neighborhoods in both cities on Foursquare API and get the most common venue categories in each neighborhood;Finally finding the best recommendation neighborhoods for our investor.", 
            "cell_type": "markdown", 
            "metadata": {}
        }, 
        {
            "source": "#### Methodology ", 
            "cell_type": "markdown", 
            "metadata": {}
        }, 
        {
            "source": "__First__ Identifying Neighborhoods inside \"North York\"\nWe will use Postal Codes of different regions inside North York to find the list of neighborhoods. We will essentially obtain our information from https://en.wikipedia.org/wiki/List_of_postal_codes_of_Canada:_M and then process the table inside this site.\n\n__Second__: Connecting to Foursquare and Retrieving Locational Data for Each Venue in Every Neighborhood.\nAfter finding the list of neighborhoods, we then connect to the Foursquare API to gather information about venues inside each and every neighborhood. For each neighborhood, we have chosen the radius to be 1000 meter.\n\n__Third__:Processing the Retrieved Data and Creating a DataFrome for All the Venues inside the Area of North York.\nWhen the data is completely gathered, we will perform processing on that raw data to find our desirable features for each venue. Our main feature is the category of that venue. After this stage, the column \"Venue's Category\" wil be hotspot of that area and different venues will have different feature-columns. After that we will integrate all shop columns to one column \"Total Shops\" and all Stores columns to \"Total Stores\" column. We assumed that different stores and shops have same custome volume.the dataset is fully ready to be used for machine learning (and statistical analysis) purposes.\n\n__Final__: Applying one of Machine Learning Techniques (K-Means Clustering) Here we cluster neighborhoods via K-means clustering method. We think that 5 clusters is enough and can cover the complexity of our problem. After clustering we will update our dataset and create a column representing the group for each neighborhood.", 
            "cell_type": "markdown", 
            "metadata": {}
        }, 
        {
            "source": "#### Results", 
            "cell_type": "markdown", 
            "metadata": {}
        }, 
        {
            "source": "Now, we focus on the centers of clusters and compare them for their \"Total Shops\" and their \"Total Stores\". The group which its center has the highest \"Total Sum\" will be our best recommendation to the investor", 
            "cell_type": "markdown", 
            "metadata": {}
        }, 
        {
            "source": "#### Discussion ", 
            "cell_type": "markdown", 
            "metadata": {}
        }, 
        {
            "source": "Based on the 5 group cluster, the Group 2(Fairview, Henry Farm, Oriole) is best group which total stores, shops and other related venues is 37 compared with the second best group(Group4) only have 12 stores.", 
            "cell_type": "markdown", 
            "metadata": {}
        }, 
        {
            "source": "#### Conclusion", 
            "cell_type": "markdown", 
            "metadata": {}
        }, 
        {
            "source": "For this project, I would like to recommend the investor from North York to invest a lunch bar in the neighbour of  Fairview, Henry Farm or Oriole for the best volume of customers.", 
            "cell_type": "markdown", 
            "metadata": {}
        }
    ], 
    "metadata": {
        "kernelspec": {
            "display_name": "Python 3.5", 
            "name": "python3", 
            "language": "python"
        }, 
        "language_info": {
            "mimetype": "text/x-python", 
            "nbconvert_exporter": "python", 
            "version": "3.5.5", 
            "name": "python", 
            "file_extension": ".py", 
            "pygments_lexer": "ipython3", 
            "codemirror_mode": {
                "version": 3, 
                "name": "ipython"
            }
        }
    }, 
    "nbformat": 4
}