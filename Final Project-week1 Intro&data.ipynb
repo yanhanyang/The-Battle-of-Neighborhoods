{
    "nbformat_minor": 1, 
    "cells": [
        {
            "source": "# Final project of the Battle of the neighborhoods\n#### Introduction/Business Problem\nIn this final project, we would like to recommendate a investor who want to invest a lunch bar in local community. The investor should open this lunchbar where it is closest to its customers in order to be easy accessed. which neighborhood (in that borough) would be a better choice for the invest to open the lunch bar in that neighborhood.\nOur mission is to find the right neighborhood.", 
            "cell_type": "markdown", 
            "metadata": {}
        }, 
        {
            "source": "#### Data\nThere are three major sources of data that are used in this project.\n\n* Postal-code-level location data: New York's data is from NYU and Toronto's is from wekipedia. These datasets both provides the information of postal codes, boroughs and neighborhoods of Toronto.\n* Coordinates data from geopy library in Python, which provide the longitude and latitude according to the \u201caddress\u201d(Tonronto)\n* Foursquare API geocode data, which contains most common venues according to the neighborhood.", 
            "cell_type": "markdown", 
            "metadata": {}
        }, 
        {
            "source": "The detail in the process to solve this question is listes below: First, extract geography information of Toronto from weikipedia; Second, convert addresses (postal code and borough) into their equivalent latitude and longitude values; Third, explore neighborhoods in both cities on Foursquare API and get the most common venue categories in each neighborhood;Finally finding the best recommendation neighborhoods for our investor.", 
            "cell_type": "markdown", 
            "metadata": {}
        }
    ], 
    "metadata": {
        "kernelspec": {
            "display_name": "Python 3.5", 
            "name": "python3", 
            "language": "python"
        }, 
        "language_info": {
            "mimetype": "text/x-python", 
            "nbconvert_exporter": "python", 
            "version": "3.5.5", 
            "name": "python", 
            "file_extension": ".py", 
            "pygments_lexer": "ipython3", 
            "codemirror_mode": {
                "version": 3, 
                "name": "ipython"
            }
        }
    }, 
    "nbformat": 4
}